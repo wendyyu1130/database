{
 "cells": [
  {
   "cell_type": "markdown",
   "metadata": {},
   "source": [
    "# Answering the whole 12 questions use MySQL"
   ]
  },
  {
   "cell_type": "markdown",
   "metadata": {},
   "source": [
    "> **Note:** The license \n",
    "### The text in the document by  Xinying Shi and Wendi Yu is licensed under [CC BY 3.0](https://creativecommons.org/licenses/by/3.0/us/)\n",
    "### The code in the document by Xinying Shi and Wendi Yu is licensed under the [MIT License](https://opensource.org/licenses/MIT)"
   ]
  },
  {
   "cell_type": "markdown",
   "metadata": {},
   "source": [
    "* ### Connect to the database first"
   ]
  },
  {
   "cell_type": "code",
   "execution_count": 2,
   "metadata": {
    "collapsed": true
   },
   "outputs": [],
   "source": [
    "%reload_ext sql"
   ]
  },
  {
   "cell_type": "code",
   "execution_count": 3,
   "metadata": {
    "collapsed": true
   },
   "outputs": [],
   "source": [
    "try:\n",
    "    import pymysql\n",
    "    pymysql.install_as_MySQLdb()\n",
    "except ImportError:\n",
    "    pass"
   ]
  },
  {
   "cell_type": "code",
   "execution_count": 4,
   "metadata": {
    "scrolled": true
   },
   "outputs": [
    {
     "name": "stderr",
     "output_type": "stream",
     "text": [
      "/Users/shixinying/anaconda3/lib/python3.6/site-packages/pymysql/cursors.py:165: Warning: (1287, \"'@@tx_isolation' is deprecated and will be removed in a future release. Please use '@@transaction_isolation' instead\")\n",
      "  result = self._query(query)\n"
     ]
    },
    {
     "data": {
      "text/plain": [
       "'Connected: root@DB_Assignment3'"
      ]
     },
     "execution_count": 4,
     "metadata": {},
     "output_type": "execute_result"
    }
   ],
   "source": [
    "%sql mysql://root@localhost:8889/DB_Assignment3"
   ]
  },
  {
   "cell_type": "markdown",
   "metadata": {},
   "source": [
    "## Answer the questions "
   ]
  },
  {
   "cell_type": "markdown",
   "metadata": {},
   "source": [
    "## i. What are people saying about me (somebody)? "
   ]
  },
  {
   "cell_type": "markdown",
   "metadata": {},
   "source": [
    "* ### <font color=#47413E face=\"Didot\"><I> Search the tags of player \"Roger Federer\", thus we could know when people talk about Roger Federer, what will they say(tags)"
   ]
  },
  {
   "cell_type": "code",
   "execution_count": 5,
   "metadata": {
    "scrolled": true
   },
   "outputs": [
    {
     "name": "stdout",
     "output_type": "stream",
     "text": [
      "3 rows affected.\n"
     ]
    },
    {
     "data": {
      "text/html": [
       "<table>\n",
       "    <tr>\n",
       "        <th>tag_text</th>\n",
       "    </tr>\n",
       "    <tr>\n",
       "        <td>VolvoCarOpen</td>\n",
       "    </tr>\n",
       "    <tr>\n",
       "        <td>RogerFederer</td>\n",
       "    </tr>\n",
       "    <tr>\n",
       "        <td>WrestleMania</td>\n",
       "    </tr>\n",
       "</table>"
      ],
      "text/plain": [
       "[('VolvoCarOpen',), ('RogerFederer',), ('WrestleMania',)]"
      ]
     },
     "execution_count": 5,
     "metadata": {},
     "output_type": "execute_result"
    }
   ],
   "source": [
    "%sql SELECT twitter.tag_text FROM twitter \\\n",
    "WHERE twitter.key_word LIKE 'Roger Federer%'"
   ]
  },
  {
   "cell_type": "markdown",
   "metadata": {},
   "source": [
    "## ii. How viral are my posts? "
   ]
  },
  {
   "cell_type": "markdown",
   "metadata": {},
   "source": [
    "* ### <font color=#47413E face=\"Didot\"><I> Assume the user's id is '42869268', and search all the retweets after he/she post, and calculate the average  \n",
    "(we assume that the viral of a post equals the average of the count of retweets)"
   ]
  },
  {
   "cell_type": "code",
   "execution_count": 6,
   "metadata": {},
   "outputs": [
    {
     "name": "stdout",
     "output_type": "stream",
     "text": [
      "1 rows affected.\n"
     ]
    },
    {
     "data": {
      "text/html": [
       "<table>\n",
       "    <tr>\n",
       "        <th>viral</th>\n",
       "    </tr>\n",
       "    <tr>\n",
       "        <td>3.6000</td>\n",
       "    </tr>\n",
       "</table>"
      ],
      "text/plain": [
       "[(Decimal('3.6000'),)]"
      ]
     },
     "execution_count": 6,
     "metadata": {},
     "output_type": "execute_result"
    }
   ],
   "source": [
    "%sql \\\n",
    "SELECT avg(twitter.retweet_count) AS viral \\\n",
    "FROM twitter \\\n",
    "WHERE user_id = 42869268;"
   ]
  },
  {
   "cell_type": "markdown",
   "metadata": {},
   "source": [
    "## iii. How much influence to my posts have? "
   ]
  },
  {
   "cell_type": "markdown",
   "metadata": {},
   "source": [
    "* ### <font color=#47413E face=\"Didot\"><I> Assume the user's id is '42869268', search all the heat after he/she post, and calculate the average\n",
    "\n",
    "(we assume that the influence of a post could be measured by heat, and we define heat = retweet_count + like_conut)"
   ]
  },
  {
   "cell_type": "code",
   "execution_count": 7,
   "metadata": {},
   "outputs": [
    {
     "name": "stdout",
     "output_type": "stream",
     "text": [
      "1 rows affected.\n"
     ]
    },
    {
     "data": {
      "text/html": [
       "<table>\n",
       "    <tr>\n",
       "        <th>heat</th>\n",
       "    </tr>\n",
       "    <tr>\n",
       "        <td>14.8000</td>\n",
       "    </tr>\n",
       "</table>"
      ],
      "text/plain": [
       "[(Decimal('14.8000'),)]"
      ]
     },
     "execution_count": 7,
     "metadata": {},
     "output_type": "execute_result"
    }
   ],
   "source": [
    "%sql \\\n",
    "SELECT avg(retweet_count + twitter.like_count) AS heat \\\n",
    "FROM twitter \\\n",
    "WHERE user_id = 42869268;"
   ]
  },
  {
   "cell_type": "markdown",
   "metadata": {},
   "source": [
    "## iv. What posts are like mine?"
   ]
  },
  {
   "cell_type": "markdown",
   "metadata": {},
   "source": [
    "* ### <font color=#47413E face=\"Didot\"><I> Assume my post is about Roger Federer. Use the SQL syntax to search the posts which contain the key word \"Roger Federer\" in tweet text."
   ]
  },
  {
   "cell_type": "code",
   "execution_count": 10,
   "metadata": {},
   "outputs": [
    {
     "name": "stdout",
     "output_type": "stream",
     "text": [
      "5 rows affected.\n"
     ]
    },
    {
     "data": {
      "text/html": [
       "<table>\n",
       "    <tr>\n",
       "        <th>tweet_text</th>\n",
       "    </tr>\n",
       "    <tr>\n",
       "        <td>Roger Federer is like Maradona and Messi, says tennis star Diego Schwartzman<br><br>#RogerFederer #DiegoSchwartzman",
       " https://t.co/IbaCLnYcI6</td>\n",
       "    </tr>\n",
       "    <tr>\n",
       "        <td>Roger Federer is like Maradona and Messi, says tennis star Diego Schwartzman<br><br>#RogerFederer #DiegoSchwartzman",
       " https://t.co/IbaCLnYcI6</td>\n",
       "    </tr>\n",
       "    <tr>\n",
       "        <td>DE PIE PARA EL ROGER FEDERER DE LA LUCHA LIBRE. #WrestleMania https://t.co/lrOmngcPqi</td>\n",
       "    </tr>\n",
       "    <tr>\n",
       "        <td>#Breaking Rafael Nadal reclaims top position in men&#x27;s ATP rankings replacing Roger Federer; Hyeon Chung breaks into",
       " https://t.co/JXVtKlHfX2</td>\n",
       "    </tr>\n",
       "    <tr>\n",
       "        <td>#RaceToLondon<br><br>1) Roger Federer (3.110)<br>2) Juan Martín del Potro (2.120)<br>3) Marin Cilic (1.470)<br>4) Hyeon Chung (1.2",
       " https://t.co/WAbmLJKRxC</td>\n",
       "    </tr>\n",
       "</table>"
      ],
      "text/plain": [
       "[('Roger Federer is like Maradona and Messi, says tennis star Diego Schwartzman\\n\\n#RogerFederer #DiegoSchwartzman\\x85 https://t.co/IbaCLnYcI6',),\n",
       " ('Roger Federer is like Maradona and Messi, says tennis star Diego Schwartzman\\n\\n#RogerFederer #DiegoSchwartzman\\x85 https://t.co/IbaCLnYcI6',),\n",
       " ('DE PIE PARA EL ROGER FEDERER DE LA LUCHA LIBRE. #WrestleMania https://t.co/lrOmngcPqi',),\n",
       " (\"#Breaking Rafael Nadal reclaims top position in men's ATP rankings replacing Roger Federer; Hyeon Chung breaks into\\x85 https://t.co/JXVtKlHfX2\",),\n",
       " ('#RaceToLondon\\n\\n1) Roger Federer (3.110)\\n2) Juan Martín del Potro (2.120)\\n3) Marin Cilic (1.470)\\n4) Hyeon Chung (1.2\\x85 https://t.co/WAbmLJKRxC',)]"
      ]
     },
     "execution_count": 10,
     "metadata": {},
     "output_type": "execute_result"
    }
   ],
   "source": [
    "%sql \\\n",
    "SELECT twitter.tweet_text FROM twitter \\\n",
    "WHERE twitter.tweet_text LIKE \"%Roger Federer%\";"
   ]
  },
  {
   "cell_type": "markdown",
   "metadata": {},
   "source": [
    "## v. What users post like me? "
   ]
  },
  {
   "cell_type": "markdown",
   "metadata": {},
   "source": [
    "* ### <font color=#47413E face=\"Didot\"><I> As a example, assume my post is about Roger Federer and tennis, then use SQL syntax to get user_id and the tweet text which contains the key word \"tennis\" or \"Roger Federer\""
   ]
  },
  {
   "cell_type": "code",
   "execution_count": 11,
   "metadata": {
    "scrolled": true
   },
   "outputs": [
    {
     "name": "stdout",
     "output_type": "stream",
     "text": [
      "36 rows affected.\n"
     ]
    },
    {
     "data": {
      "text/html": [
       "<table>\n",
       "    <tr>\n",
       "        <th>user_id</th>\n",
       "        <th>tweet_text</th>\n",
       "    </tr>\n",
       "    <tr>\n",
       "        <td>403670899.0</td>\n",
       "        <td>Roger Federer is like Maradona and Messi, says tennis star Diego Schwartzman<br><br>#RogerFederer #DiegoSchwartzman",
       " https://t.co/IbaCLnYcI6</td>\n",
       "    </tr>\n",
       "    <tr>\n",
       "        <td>8.200112787354092e+17</td>\n",
       "        <td>Spain Survives Davis Cup Struggle Behind Rafael Nadal and David Ferrer  Mondays with Bob Greene https://t.co/CnICgRrLHQ #tennis</td>\n",
       "    </tr>\n",
       "    <tr>\n",
       "        <td>3160066737.0</td>\n",
       "        <td>RT @pharedk: #LoonPlage Le Nordiste Lucas Pouille une nouvelle fois héros de la patrie en Coupe Davis #tennis ? https://t.co/yR3UnvV4v6</td>\n",
       "    </tr>\n",
       "    <tr>\n",
       "        <td>103574078.0</td>\n",
       "        <td>???????????????????<br><br>Andy Murray Tennis Street Magic in London<br>https://t.co/wikaSfLIv5<br><br>?????????????????? #?????</td>\n",
       "    </tr>\n",
       "    <tr>\n",
       "        <td>2999436016.0</td>\n",
       "        <td>Tennis&amp;gt;Coupe Davis: Lucas Pouille?: un week-end qui comptera:Le n-- https://t.co/OWkXxdIIET #tennis https://t.co/dy7dnP0yb9</td>\n",
       "    </tr>\n",
       "    <tr>\n",
       "        <td>43905364.0</td>\n",
       "        <td>#BBC Sport - #DavisCup #Tennis: #Rafael #Nadal and David #Ferrer put #Spain into semi-finals https://t.co/BvVzQDdGz1</td>\n",
       "    </tr>\n",
       "    <tr>\n",
       "        <td>729845191.0</td>\n",
       "        <td>DE PIE PARA EL ROGER FEDERER DE LA LUCHA LIBRE. #WrestleMania https://t.co/lrOmngcPqi</td>\n",
       "    </tr>\n",
       "    <tr>\n",
       "        <td>2999436016.0</td>\n",
       "        <td>Tennis: Lucas Pouille s&#x27;oppose à la réforme de la Coupe Davis: « -- https://t.co/sV5Qgz9Bcq #tennis https://t.co/BHl1KHanGh</td>\n",
       "    </tr>\n",
       "    <tr>\n",
       "        <td>3374876560.0</td>\n",
       "        <td>Doubles win by Jack Sock, Ryan Harrison puts U.S. in #DavisCup semifinals: https://t.co/vw8uZxOiZa<br>#Tennis</td>\n",
       "    </tr>\n",
       "    <tr>\n",
       "        <td>587708785.0</td>\n",
       "        <td>RT @pharedk: #LoonPlage Le Nordiste Lucas Pouille une nouvelle fois héros de la patrie en Coupe Davis #tennis ? https://t.co/yR3UnvV4v6</td>\n",
       "    </tr>\n",
       "    <tr>\n",
       "        <td>117044965.0</td>\n",
       "        <td>RT @pharedk: #LoonPlage Le Nordiste Lucas Pouille une nouvelle fois héros de la patrie en Coupe Davis #tennis ? https://t.co/yR3UnvV4v6</td>\n",
       "    </tr>\n",
       "    <tr>\n",
       "        <td>8.200112787354092e+17</td>\n",
       "        <td>Sock, Harrison put U.S. in Davis Cup semis https://t.co/r7oI5fnTiw #tennis</td>\n",
       "    </tr>\n",
       "    <tr>\n",
       "        <td>3061460756.0</td>\n",
       "        <td>Tennis Watch - Davis Cup, Jack Sock #SockWinnerSpeeds, WOW! #JMCVsports  #JMCVdaily #SportsDaily #SportsJunkie",
       " https://t.co/hioGvN15kr</td>\n",
       "    </tr>\n",
       "    <tr>\n",
       "        <td>3374876560.0</td>\n",
       "        <td>.@JohnIsner, Sam Querrey put U.S. on verge of #DavisCup semifinal berth: https://t.co/8NEqgIxQ8s<br>#Tennis</td>\n",
       "    </tr>\n",
       "    <tr>\n",
       "        <td>8.480039618105426e+17</td>\n",
       "        <td>UNBELIEVABLE #RogerFederer is able to hit shots that do not exist in tennis&#x27; book - says Sam Querrey.<br>https://t.co/yhJ6SndS4e</td>\n",
       "    </tr>\n",
       "    <tr>\n",
       "        <td>604842991.0</td>\n",
       "        <td>Tennis:Belgique&amp;gt;Coupe Davis | De Loore proche de l&#x27;exploit contre- https://t.co/bAEkGTm3At #tennis https://t.co/RwJ8une6am</td>\n",
       "    </tr>\n",
       "    <tr>\n",
       "        <td>9.673160831023636e+17</td>\n",
       "        <td>The best boy and the best player ??? @GrigorDimitrov #monaco #montecarlo #montecarlorolexmasters #tennis #GD",
       " https://t.co/wRzX47MiXi</td>\n",
       "    </tr>\n",
       "    <tr>\n",
       "        <td>9.673160831023636e+17</td>\n",
       "        <td>The best boy and the best player ??? @GrigorDimitrov #monaco #montecarlo #montecarlorolexmasters #tennis #GD",
       " https://t.co/7GLRs54WQN</td>\n",
       "    </tr>\n",
       "    <tr>\n",
       "        <td>9.673160831023636e+17</td>\n",
       "        <td>The best boy and the best player ??? @GrigorDimitrov #monaco #montecarlo #montecarlorolexmasters #tennis #GD",
       " https://t.co/3FCa2WrdRt</td>\n",
       "    </tr>\n",
       "    <tr>\n",
       "        <td>9.673160831023636e+17</td>\n",
       "        <td>Practice makes perfect ??? @GrigorDimitrov #monaco #montecarlo #montecarlorolexmasters #tennis #GD #grigor",
       " https://t.co/fWl88TVEck</td>\n",
       "    </tr>\n",
       "    <tr>\n",
       "        <td>9.673160831023636e+17</td>\n",
       "        <td>Training ??? @GrigorDimitrov #monaco #montecarlo #montecarlorolexmasters #tennis #GD #grigor #dimitrov",
       " https://t.co/pfh90443xR</td>\n",
       "    </tr>\n",
       "    <tr>\n",
       "        <td>9.673160831023636e+17</td>\n",
       "        <td>??? @GrigorDimitrov #monaco #montecarlo #montecarlorolexmasters #tennis #GD #grigor #dimitrov #grigordimitrov",
       " https://t.co/mVV3Y57RtJ</td>\n",
       "    </tr>\n",
       "    <tr>\n",
       "        <td>1014421435.0</td>\n",
       "        <td>RT @LeedsTennis: Practice on Court Rainier III with @david__goffin #rolexmcmasters #mccc #Comingsoon https://t.co/QE4Q93rpwv https://t.co/9",
       "</td>\n",
       "    </tr>\n",
       "    <tr>\n",
       "        <td>4801632014.0</td>\n",
       "        <td>RT @tennisplazabenl: .@David__Goffin werkt aan terugkeer in Monaco: https://t.co/2GST6gjgeh #tennis #atp</td>\n",
       "    </tr>\n",
       "    <tr>\n",
       "        <td>738282594.0</td>\n",
       "        <td>.@David__Goffin werkt aan terugkeer in Monaco: https://t.co/2GST6gjgeh #tennis #atp</td>\n",
       "    </tr>\n",
       "    <tr>\n",
       "        <td>604842991.0</td>\n",
       "        <td>Tennis &amp;gt; Sport&amp;gt;&quot;J&#x27;ai été bluffé par David Goffin&quot;: Xavier Malisse..https://t.co/jpVqxIJmiW #tennis https://t.co/b818DvWFWQ</td>\n",
       "    </tr>\n",
       "    <tr>\n",
       "        <td>8.640965817121382e+17</td>\n",
       "        <td>RT @Eustoma8: Kei Nishikori <br><br>#keinishikori <br>#nycblive <br>#nyopen <br>#nyopentennis <br><br>https://t.co/n1g3KEdNhL https://t.co/LlSKl7Bjr1</td>\n",
       "    </tr>\n",
       "    <tr>\n",
       "        <td>2366639865.0</td>\n",
       "        <td>RT @TennisActu: ATP - Monte-Carlo : Stan Wawrinka wild-card de luxe? #rolexmcmasters #wawrinka #federer https://t.co/AOertajGut</td>\n",
       "    </tr>\n",
       "    <tr>\n",
       "        <td>4925115757.0</td>\n",
       "        <td>Koreas tennis sensation Chung Hyeon ranked 19th in latest ATP rankings | #Tennis https://t.co/Eqe9FqNHHh</td>\n",
       "    </tr>\n",
       "    <tr>\n",
       "        <td>1949984354.0</td>\n",
       "        <td>RT @TennisActu: ATP - Monte-Carlo : Stan Wawrinka wild-card de luxe? #rolexmcmasters #wawrinka #federer https://t.co/AOertajGut</td>\n",
       "    </tr>\n",
       "    <tr>\n",
       "        <td>2189730625.0</td>\n",
       "        <td>#Breaking Rafael Nadal reclaims top position in men&#x27;s ATP rankings replacing Roger Federer; Hyeon Chung breaks into",
       " https://t.co/JXVtKlHfX2</td>\n",
       "    </tr>\n",
       "    <tr>\n",
       "        <td>8.445920234202604e+17</td>\n",
       "        <td>RT @TennisActu: ATP - Monte-Carlo : Stan Wawrinka wild-card de luxe? #rolexmcmasters #wawrinka #federer https://t.co/AOertajGut</td>\n",
       "    </tr>\n",
       "    <tr>\n",
       "        <td>208586748.0</td>\n",
       "        <td>RT @TennisActu: ATP - Monte-Carlo : Stan Wawrinka wild-card de luxe? #rolexmcmasters #wawrinka #federer https://t.co/AOertajGut</td>\n",
       "    </tr>\n",
       "    <tr>\n",
       "        <td>227745356.0</td>\n",
       "        <td>RT @TennisActu: ATP - Monte-Carlo : Stan Wawrinka wild-card de luxe? #rolexmcmasters #wawrinka #federer https://t.co/AOertajGut</td>\n",
       "    </tr>\n",
       "    <tr>\n",
       "        <td>3128852586.0</td>\n",
       "        <td>RT @pimpmytennis: .@keinishikori caught a big fish ? King of the lake!<br>FreeHD? https://t.co/hwymOaR5uj<br>#MountFuji #AprilFoolDay #Fujiyama #",
       "</td>\n",
       "    </tr>\n",
       "    <tr>\n",
       "        <td>1960958143.0</td>\n",
       "        <td>#RaceToLondon<br><br>1) Roger Federer (3.110)<br>2) Juan Martín del Potro (2.120)<br>3) Marin Cilic (1.470)<br>4) Hyeon Chung (1.2",
       " https://t.co/WAbmLJKRxC</td>\n",
       "    </tr>\n",
       "</table>"
      ],
      "text/plain": [
       "[(403670899.0, 'Roger Federer is like Maradona and Messi, says tennis star Diego Schwartzman\\n\\n#RogerFederer #DiegoSchwartzman\\x85 https://t.co/IbaCLnYcI6'),\n",
       " (8.200112787354092e+17, 'Spain Survives Davis Cup Struggle Behind Rafael Nadal and David Ferrer \\x96 Mondays with Bob Greene https://t.co/CnICgRrLHQ #tennis'),\n",
       " (3160066737.0, 'RT @pharedk: #LoonPlage Le Nordiste Lucas Pouille une nouvelle fois héros de la patrie en Coupe Davis #tennis ? https://t.co/yR3UnvV4v6'),\n",
       " (103574078.0, '???????????????????\\n\\nAndy Murray Tennis Street Magic in London\\nhttps://t.co/wikaSfLIv5\\n\\n?????????????????? #?????'),\n",
       " (2999436016.0, 'Tennis&gt;Coupe Davis: Lucas Pouille?: un week-end qui comptera:Le n-- https://t.co/OWkXxdIIET #tennis https://t.co/dy7dnP0yb9'),\n",
       " (43905364.0, '#BBC Sport - #DavisCup #Tennis: #Rafael #Nadal and David #Ferrer put #Spain into semi-finals https://t.co/BvVzQDdGz1'),\n",
       " (729845191.0, 'DE PIE PARA EL ROGER FEDERER DE LA LUCHA LIBRE. #WrestleMania https://t.co/lrOmngcPqi'),\n",
       " (2999436016.0, \"Tennis: Lucas Pouille\\xa0s'oppose à la réforme de la Coupe Davis: «\\xa0-- https://t.co/sV5Qgz9Bcq #tennis https://t.co/BHl1KHanGh\"),\n",
       " (3374876560.0, 'Doubles win by Jack Sock, Ryan Harrison puts U.S. in #DavisCup semifinals: https://t.co/vw8uZxOiZa\\n#Tennis'),\n",
       " (587708785.0, 'RT @pharedk: #LoonPlage Le Nordiste Lucas Pouille une nouvelle fois héros de la patrie en Coupe Davis #tennis ? https://t.co/yR3UnvV4v6'),\n",
       " (117044965.0, 'RT @pharedk: #LoonPlage Le Nordiste Lucas Pouille une nouvelle fois héros de la patrie en Coupe Davis #tennis ? https://t.co/yR3UnvV4v6'),\n",
       " (8.200112787354092e+17, 'Sock, Harrison put U.S. in Davis Cup semis https://t.co/r7oI5fnTiw #tennis'),\n",
       " (3061460756.0, 'Tennis Watch - Davis Cup, Jack Sock #SockWinnerSpeeds, WOW! #JMCVsports  #JMCVdaily #SportsDaily #SportsJunkie\\x85 https://t.co/hioGvN15kr'),\n",
       " (3374876560.0, '.@JohnIsner, Sam Querrey put U.S. on verge of #DavisCup semifinal berth: https://t.co/8NEqgIxQ8s\\n#Tennis'),\n",
       " (8.480039618105426e+17, \"UNBELIEVABLE #RogerFederer is able to hit\\xa0shots that do not exist in tennis' book - says Sam Querrey.\\nhttps://t.co/yhJ6SndS4e\"),\n",
       " (604842991.0, \"Tennis:Belgique&gt;Coupe Davis | De Loore proche de l'exploit contre- https://t.co/bAEkGTm3At #tennis https://t.co/RwJ8une6am\"),\n",
       " (9.673160831023636e+17, 'The best boy and the best player ??? @GrigorDimitrov #monaco #montecarlo #montecarlorolexmasters #tennis #GD\\x85 https://t.co/wRzX47MiXi'),\n",
       " (9.673160831023636e+17, 'The best boy and the best player ??? @GrigorDimitrov #monaco #montecarlo #montecarlorolexmasters #tennis #GD\\x85 https://t.co/7GLRs54WQN'),\n",
       " (9.673160831023636e+17, 'The best boy and the best player ??? @GrigorDimitrov #monaco #montecarlo #montecarlorolexmasters #tennis #GD\\x85 https://t.co/3FCa2WrdRt'),\n",
       " (9.673160831023636e+17, 'Practice makes perfect ??? @GrigorDimitrov #monaco #montecarlo #montecarlorolexmasters #tennis #GD #grigor\\x85 https://t.co/fWl88TVEck'),\n",
       " (9.673160831023636e+17, 'Training ??? @GrigorDimitrov #monaco #montecarlo #montecarlorolexmasters #tennis #GD #grigor #dimitrov\\x85 https://t.co/pfh90443xR'),\n",
       " (9.673160831023636e+17, '??? @GrigorDimitrov #monaco #montecarlo #montecarlorolexmasters #tennis #GD #grigor #dimitrov #grigordimitrov\\x85 https://t.co/mVV3Y57RtJ'),\n",
       " (1014421435.0, 'RT @LeedsTennis: Practice on Court Rainier III with @david__goffin #rolexmcmasters #mccc #Comingsoon https://t.co/QE4Q93rpwv https://t.co/9\\x85'),\n",
       " (4801632014.0, 'RT @tennisplazabenl: .@David__Goffin werkt aan terugkeer in Monaco: https://t.co/2GST6gjgeh #tennis #atp'),\n",
       " (738282594.0, '.@David__Goffin werkt aan terugkeer in Monaco: https://t.co/2GST6gjgeh #tennis #atp'),\n",
       " (604842991.0, 'Tennis &gt; Sport&gt;\"J\\'ai été bluffé par David Goffin\": Xavier Malisse..https://t.co/jpVqxIJmiW #tennis https://t.co/b818DvWFWQ'),\n",
       " (8.640965817121382e+17, 'RT @Eustoma8: Kei Nishikori \\n\\n#keinishikori \\n#nycblive \\n#nyopen \\n#nyopentennis \\n\\nhttps://t.co/n1g3KEdNhL https://t.co/LlSKl7Bjr1'),\n",
       " (2366639865.0, 'RT @TennisActu: ATP - Monte-Carlo : Stan Wawrinka wild-card de luxe? #rolexmcmasters #wawrinka #federer https://t.co/AOertajGut'),\n",
       " (4925115757.0, 'Koreas tennis sensation Chung Hyeon ranked 19th in latest ATP rankings |\\xa0#Tennis https://t.co/Eqe9FqNHHh'),\n",
       " (1949984354.0, 'RT @TennisActu: ATP - Monte-Carlo : Stan Wawrinka wild-card de luxe? #rolexmcmasters #wawrinka #federer https://t.co/AOertajGut'),\n",
       " (2189730625.0, \"#Breaking Rafael Nadal reclaims top position in men's ATP rankings replacing Roger Federer; Hyeon Chung breaks into\\x85 https://t.co/JXVtKlHfX2\"),\n",
       " (8.445920234202604e+17, 'RT @TennisActu: ATP - Monte-Carlo : Stan Wawrinka wild-card de luxe? #rolexmcmasters #wawrinka #federer https://t.co/AOertajGut'),\n",
       " (208586748.0, 'RT @TennisActu: ATP - Monte-Carlo : Stan Wawrinka wild-card de luxe? #rolexmcmasters #wawrinka #federer https://t.co/AOertajGut'),\n",
       " (227745356.0, 'RT @TennisActu: ATP - Monte-Carlo : Stan Wawrinka wild-card de luxe? #rolexmcmasters #wawrinka #federer https://t.co/AOertajGut'),\n",
       " (3128852586.0, 'RT @pimpmytennis: .@keinishikori caught a big fish ? King of the lake!\\nFreeHD? https://t.co/hwymOaR5uj\\n#MountFuji #AprilFoolDay #Fujiyama #\\x85'),\n",
       " (1960958143.0, '#RaceToLondon\\n\\n1) Roger Federer (3.110)\\n2) Juan Martín del Potro (2.120)\\n3) Marin Cilic (1.470)\\n4) Hyeon Chung (1.2\\x85 https://t.co/WAbmLJKRxC')]"
      ]
     },
     "execution_count": 11,
     "metadata": {},
     "output_type": "execute_result"
    }
   ],
   "source": [
    "%sql \\\n",
    "SELECT DISTINCT twitter.user_id, twitter.tweet_text FROM twitter \\\n",
    "WHERE twitter.tweet_text REGEXP 'Roger Federer|Tennis';"
   ]
  },
  {
   "cell_type": "markdown",
   "metadata": {},
   "source": [
    "## vi. Who should I be following? "
   ]
  },
  {
   "cell_type": "markdown",
   "metadata": {},
   "source": [
    "* ### <font color=#47413E face=\"Didot\"><I> At firts, the people I should follow should have similar content, Second, the tweets he/she posts should have high quality.  \n",
    "    \n",
    "    <B>So, we use the result of question V, which shows the users like me  \n",
    "    <B>And then find who has the best influence(use heat) and the heats >5   \n",
    "    <B>I should follow someone who has more influence"
   ]
  },
  {
   "cell_type": "code",
   "execution_count": 20,
   "metadata": {
    "scrolled": false
   },
   "outputs": [
    {
     "name": "stdout",
     "output_type": "stream",
     "text": [
      "4 rows affected.\n"
     ]
    },
    {
     "data": {
      "text/html": [
       "<table>\n",
       "    <tr>\n",
       "        <th>user_id</th>\n",
       "        <th>tweet_text</th>\n",
       "        <th>heats</th>\n",
       "    </tr>\n",
       "    <tr>\n",
       "        <td>8.480039618105426e+17</td>\n",
       "        <td>UNBELIEVABLE #RogerFederer is able to hit shots that do not exist in tennis&#x27; book - says Sam Querrey.<br>https://t.co/yhJ6SndS4e</td>\n",
       "        <td>18</td>\n",
       "    </tr>\n",
       "    <tr>\n",
       "        <td>9.673160831023636e+17</td>\n",
       "        <td>Practice makes perfect ??? @GrigorDimitrov #monaco #montecarlo #montecarlorolexmasters #tennis #GD #grigor",
       " https://t.co/fWl88TVEck</td>\n",
       "        <td>7</td>\n",
       "    </tr>\n",
       "    <tr>\n",
       "        <td>9.673160831023636e+17</td>\n",
       "        <td>Training ??? @GrigorDimitrov #monaco #montecarlo #montecarlorolexmasters #tennis #GD #grigor #dimitrov",
       " https://t.co/pfh90443xR</td>\n",
       "        <td>7</td>\n",
       "    </tr>\n",
       "    <tr>\n",
       "        <td>8.640965817121382e+17</td>\n",
       "        <td>RT @Eustoma8: Kei Nishikori <br><br>#keinishikori <br>#nycblive <br>#nyopen <br>#nyopentennis <br><br>https://t.co/n1g3KEdNhL https://t.co/LlSKl7Bjr1</td>\n",
       "        <td>6</td>\n",
       "    </tr>\n",
       "</table>"
      ],
      "text/plain": [
       "[(8.480039618105426e+17, \"UNBELIEVABLE #RogerFederer is able to hit\\xa0shots that do not exist in tennis' book - says Sam Querrey.\\nhttps://t.co/yhJ6SndS4e\", 18),\n",
       " (9.673160831023636e+17, 'Practice makes perfect ??? @GrigorDimitrov #monaco #montecarlo #montecarlorolexmasters #tennis #GD #grigor\\x85 https://t.co/fWl88TVEck', 7),\n",
       " (9.673160831023636e+17, 'Training ??? @GrigorDimitrov #monaco #montecarlo #montecarlorolexmasters #tennis #GD #grigor #dimitrov\\x85 https://t.co/pfh90443xR', 7),\n",
       " (8.640965817121382e+17, 'RT @Eustoma8: Kei Nishikori \\n\\n#keinishikori \\n#nycblive \\n#nyopen \\n#nyopentennis \\n\\nhttps://t.co/n1g3KEdNhL https://t.co/LlSKl7Bjr1', 6)]"
      ]
     },
     "execution_count": 20,
     "metadata": {},
     "output_type": "execute_result"
    }
   ],
   "source": [
    "%sql \\\n",
    "SELECT twitter.user_id, twitter.tweet_text, twitter.heats FROM twitter \\\n",
    "  WHERE twitter.tweet_text REGEXP 'Roger Federer|Tennis' \\\n",
    "    AND heats>5 \\\n",
    "  ORDER BY heats DESC ;"
   ]
  },
  {
   "cell_type": "markdown",
   "metadata": {},
   "source": [
    "## vii. What topics are trending in my domain?"
   ]
  },
  {
   "cell_type": "markdown",
   "metadata": {},
   "source": [
    "* ### <font color=#47413E face=\"Didot\"><I> Due to the twitter data we scraped is from 2018-04-03 to 2018-04-09, We search for different day's most popular tag to see the trending."
   ]
  },
  {
   "cell_type": "code",
   "execution_count": 23,
   "metadata": {},
   "outputs": [
    {
     "name": "stdout",
     "output_type": "stream",
     "text": [
      "1 rows affected.\n"
     ]
    },
    {
     "data": {
      "text/html": [
       "<table>\n",
       "    <tr>\n",
       "        <th>tag_text</th>\n",
       "        <th>count</th>\n",
       "    </tr>\n",
       "    <tr>\n",
       "        <td>DavisCup</td>\n",
       "        <td>3</td>\n",
       "    </tr>\n",
       "</table>"
      ],
      "text/plain": [
       "[('DavisCup', 3)]"
      ]
     },
     "execution_count": 23,
     "metadata": {},
     "output_type": "execute_result"
    }
   ],
   "source": [
    "%sql \\\n",
    "SELECT twitter.tag_text, count(*) AS count \\\n",
    "FROM twitter \\\n",
    "WHERE twitter_day = 9 \\\n",
    "GROUP BY tag_text ORDER BY count DESC LIMIT 1;"
   ]
  },
  {
   "cell_type": "code",
   "execution_count": 24,
   "metadata": {},
   "outputs": [
    {
     "name": "stdout",
     "output_type": "stream",
     "text": [
      "1 rows affected.\n"
     ]
    },
    {
     "data": {
      "text/html": [
       "<table>\n",
       "    <tr>\n",
       "        <th>tag_text</th>\n",
       "        <th>count</th>\n",
       "    </tr>\n",
       "    <tr>\n",
       "        <td>DavisCup</td>\n",
       "        <td>9</td>\n",
       "    </tr>\n",
       "</table>"
      ],
      "text/plain": [
       "[('DavisCup', 9)]"
      ]
     },
     "execution_count": 24,
     "metadata": {},
     "output_type": "execute_result"
    }
   ],
   "source": [
    "%sql \\\n",
    "SELECT twitter.tag_text, count(*) AS count \\\n",
    "FROM twitter \\\n",
    "WHERE twitter_day = 8 \\\n",
    "GROUP BY tag_text ORDER BY count DESC LIMIT 1;"
   ]
  },
  {
   "cell_type": "code",
   "execution_count": 26,
   "metadata": {},
   "outputs": [
    {
     "name": "stdout",
     "output_type": "stream",
     "text": [
      "1 rows affected.\n"
     ]
    },
    {
     "data": {
      "text/html": [
       "<table>\n",
       "    <tr>\n",
       "        <th>tag_text</th>\n",
       "        <th>count</th>\n",
       "    </tr>\n",
       "    <tr>\n",
       "        <td>CoupeDavis</td>\n",
       "        <td>2</td>\n",
       "    </tr>\n",
       "</table>"
      ],
      "text/plain": [
       "[('CoupeDavis', 2)]"
      ]
     },
     "execution_count": 26,
     "metadata": {},
     "output_type": "execute_result"
    }
   ],
   "source": [
    "%sql \\\n",
    "SELECT twitter.tag_text, count(*) AS count \\\n",
    "FROM twitter \\\n",
    "WHERE twitter_day = 7 \\\n",
    "GROUP BY tag_text ORDER BY count DESC LIMIT 1;"
   ]
  },
  {
   "cell_type": "code",
   "execution_count": 27,
   "metadata": {},
   "outputs": [
    {
     "name": "stdout",
     "output_type": "stream",
     "text": [
      "1 rows affected.\n"
     ]
    },
    {
     "data": {
      "text/html": [
       "<table>\n",
       "    <tr>\n",
       "        <th>tag_text</th>\n",
       "        <th>count</th>\n",
       "    </tr>\n",
       "    <tr>\n",
       "        <td>monaco</td>\n",
       "        <td>6</td>\n",
       "    </tr>\n",
       "</table>"
      ],
      "text/plain": [
       "[('monaco', 6)]"
      ]
     },
     "execution_count": 27,
     "metadata": {},
     "output_type": "execute_result"
    }
   ],
   "source": [
    "%sql \\\n",
    "SELECT twitter.tag_text, count(*) AS count \\\n",
    "FROM twitter \\\n",
    "WHERE twitter_day = 6 \\\n",
    "GROUP BY tag_text ORDER BY count DESC LIMIT 1;"
   ]
  },
  {
   "cell_type": "code",
   "execution_count": 28,
   "metadata": {},
   "outputs": [
    {
     "name": "stdout",
     "output_type": "stream",
     "text": [
      "1 rows affected.\n"
     ]
    },
    {
     "data": {
      "text/html": [
       "<table>\n",
       "    <tr>\n",
       "        <th>tag_text</th>\n",
       "        <th>count</th>\n",
       "    </tr>\n",
       "    <tr>\n",
       "        <td>rolexmcmasters</td>\n",
       "        <td>12</td>\n",
       "    </tr>\n",
       "</table>"
      ],
      "text/plain": [
       "[('rolexmcmasters', 12)]"
      ]
     },
     "execution_count": 28,
     "metadata": {},
     "output_type": "execute_result"
    }
   ],
   "source": [
    "%sql \\\n",
    "SELECT twitter.tag_text, count(*) AS count \\\n",
    "FROM twitter \\\n",
    "WHERE twitter_day = 5 \\\n",
    "GROUP BY tag_text ORDER BY count DESC LIMIT 1;"
   ]
  },
  {
   "cell_type": "code",
   "execution_count": 29,
   "metadata": {},
   "outputs": [
    {
     "name": "stdout",
     "output_type": "stream",
     "text": [
      "1 rows affected.\n"
     ]
    },
    {
     "data": {
      "text/html": [
       "<table>\n",
       "    <tr>\n",
       "        <th>tag_text</th>\n",
       "        <th>count</th>\n",
       "    </tr>\n",
       "    <tr>\n",
       "        <td>tennis</td>\n",
       "        <td>3</td>\n",
       "    </tr>\n",
       "</table>"
      ],
      "text/plain": [
       "[('tennis', 3)]"
      ]
     },
     "execution_count": 29,
     "metadata": {},
     "output_type": "execute_result"
    }
   ],
   "source": [
    "%sql \\\n",
    "SELECT twitter.tag_text, count(*) AS count \\\n",
    "FROM twitter \\\n",
    "WHERE twitter_day = 4 \\\n",
    "GROUP BY tag_text ORDER BY count DESC LIMIT 1;"
   ]
  },
  {
   "cell_type": "code",
   "execution_count": 30,
   "metadata": {},
   "outputs": [
    {
     "name": "stdout",
     "output_type": "stream",
     "text": [
      "1 rows affected.\n"
     ]
    },
    {
     "data": {
      "text/html": [
       "<table>\n",
       "    <tr>\n",
       "        <th>tag_text</th>\n",
       "        <th>count</th>\n",
       "    </tr>\n",
       "    <tr>\n",
       "        <td>rolexmcmasters</td>\n",
       "        <td>4</td>\n",
       "    </tr>\n",
       "</table>"
      ],
      "text/plain": [
       "[('rolexmcmasters', 4)]"
      ]
     },
     "execution_count": 30,
     "metadata": {},
     "output_type": "execute_result"
    }
   ],
   "source": [
    "%sql \\\n",
    "SELECT twitter.tag_text, count(*) AS count \\\n",
    "FROM twitter \\\n",
    "WHERE twitter_day = 3 \\\n",
    "GROUP BY tag_text ORDER BY count DESC LIMIT 1;"
   ]
  },
  {
   "cell_type": "markdown",
   "metadata": {},
   "source": [
    "### <font color=#6495ED>We assume the tag which has the most count is the trending in our domain  \n",
    "### <font color=#6495ED>So the trending is:  \n",
    "### <font color=#6495ED><B>DavisCup -> DavisCup -> CoupeDavis -> monaco -> rolexmcmasters -> tennis -> rolexmcmasters</B>"
   ]
  },
  {
   "cell_type": "markdown",
   "metadata": {},
   "source": [
    "## viii. What keywords/ hashtags should I add to my post? "
   ]
  },
  {
   "cell_type": "markdown",
   "metadata": {},
   "source": [
    "* ### <font color=#47413E face=\"Didot\"><I> In face, some hashtags have more influence than others, so we should add these tags to our posts which talk about the same topic. \n",
    "#### <font color=#47413E face=\"Didot\"><I>So, we search the Top 10 hashtags which included in most tweets. And then we should add these tags."
   ]
  },
  {
   "cell_type": "code",
   "execution_count": 31,
   "metadata": {},
   "outputs": [
    {
     "name": "stdout",
     "output_type": "stream",
     "text": [
      "10 rows affected.\n"
     ]
    },
    {
     "data": {
      "text/html": [
       "<table>\n",
       "    <tr>\n",
       "        <th>tag_text</th>\n",
       "        <th>count</th>\n",
       "    </tr>\n",
       "    <tr>\n",
       "        <td>rolexmcmasters</td>\n",
       "        <td>20</td>\n",
       "    </tr>\n",
       "    <tr>\n",
       "        <td>DavisCup</td>\n",
       "        <td>14</td>\n",
       "    </tr>\n",
       "    <tr>\n",
       "        <td>CopaDavis</td>\n",
       "        <td>11</td>\n",
       "    </tr>\n",
       "    <tr>\n",
       "        <td>tennis</td>\n",
       "        <td>10</td>\n",
       "    </tr>\n",
       "    <tr>\n",
       "        <td>Nolefam</td>\n",
       "        <td>6</td>\n",
       "    </tr>\n",
       "    <tr>\n",
       "        <td>monaco</td>\n",
       "        <td>6</td>\n",
       "    </tr>\n",
       "    <tr>\n",
       "        <td>Djokovic</td>\n",
       "        <td>5</td>\n",
       "    </tr>\n",
       "    <tr>\n",
       "        <td>CoupeDavis</td>\n",
       "        <td>5</td>\n",
       "    </tr>\n",
       "    <tr>\n",
       "        <td>actors</td>\n",
       "        <td>3</td>\n",
       "    </tr>\n",
       "    <tr>\n",
       "        <td>LoonPlage</td>\n",
       "        <td>3</td>\n",
       "    </tr>\n",
       "</table>"
      ],
      "text/plain": [
       "[('rolexmcmasters', 20),\n",
       " ('DavisCup', 14),\n",
       " ('CopaDavis', 11),\n",
       " ('tennis', 10),\n",
       " ('Nolefam', 6),\n",
       " ('monaco', 6),\n",
       " ('Djokovic', 5),\n",
       " ('CoupeDavis', 5),\n",
       " ('actors', 3),\n",
       " ('LoonPlage', 3)]"
      ]
     },
     "execution_count": 31,
     "metadata": {},
     "output_type": "execute_result"
    }
   ],
   "source": [
    "%sql \\\n",
    "SELECT twitter.tag_text, count(*) AS count \\\n",
    "FROM twitter \\\n",
    "GROUP BY twitter.tag_text \\\n",
    "ORDER BY count DESC LIMIT 10;"
   ]
  },
  {
   "cell_type": "markdown",
   "metadata": {},
   "source": [
    "## ix. Should I follow somebody back? "
   ]
  },
  {
   "cell_type": "markdown",
   "metadata": {},
   "source": [
    "* ### <font color=#47413E face=\"Didot\"><I> I should follow somebody back if I should be following them see vi. \n",
    "### <font color=#47413E face=\"Didot\"><I>Assume I was Rafael Nadal, and then I should try to find the person who talked about me or something I am interedted most.\n",
    "\n",
    "<B>Search for the first 5 people talked most about what I am interested"
   ]
  },
  {
   "cell_type": "code",
   "execution_count": 56,
   "metadata": {
    "scrolled": true
   },
   "outputs": [
    {
     "name": "stdout",
     "output_type": "stream",
     "text": [
      "5 rows affected.\n"
     ]
    },
    {
     "data": {
      "text/html": [
       "<table>\n",
       "    <tr>\n",
       "        <th>user_id</th>\n",
       "        <th>tweet_text</th>\n",
       "        <th>heats</th>\n",
       "    </tr>\n",
       "    <tr>\n",
       "        <td>42869268.0</td>\n",
       "        <td>Rafael #Nadal heads into the European clay season as the World No. 1 - but can he stay there?<br><br>It&#x27;s a mammoth ask.",
       " https://t.co/2hL5HPZVhM</td>\n",
       "        <td>42</td>\n",
       "    </tr>\n",
       "    <tr>\n",
       "        <td>48245440.0</td>\n",
       "        <td>#TENISxESPN #LaGiraSoñada Roland Garros contará con tres retadores a Rafael Nadal: Dominic Thiem, Stanislas Wawrink",
       " https://t.co/nPujaonYst</td>\n",
       "        <td>26</td>\n",
       "    </tr>\n",
       "    <tr>\n",
       "        <td>409738504.0</td>\n",
       "        <td>Sam Querrey gives #TeamUSA a 2-0 #DavisCup QF lead over Belgium with a 6-1, 7-6, 7-5 win against world No. 110 Rube",
       " https://t.co/stNz3P4DUS</td>\n",
       "        <td>21</td>\n",
       "    </tr>\n",
       "    <tr>\n",
       "        <td>42869268.0</td>\n",
       "        <td>USA ?? are the first team into the #DavisCup semi-finals in 2018 after Jack Sock and Ryan Harrison won Saturday&#x27;s d",
       " https://t.co/RP3RCoHZVm</td>\n",
       "        <td>8</td>\n",
       "    </tr>\n",
       "    <tr>\n",
       "        <td>211475875.0</td>\n",
       "        <td>Quart de finale USA/Belgique de #DavisCup 3/0, double: Ryan Harrison/Jack Sock battent Sander GILLE/Jordan VLIEGEN",
       " https://t.co/H3TXYGdhK7</td>\n",
       "        <td>7</td>\n",
       "    </tr>\n",
       "</table>"
      ],
      "text/plain": [
       "[(42869268.0, \"Rafael #Nadal heads into the European clay season as the World No. 1 - but can he stay there?\\n\\nIt's a mammoth ask.\\x85 https://t.co/2hL5HPZVhM\", 42),\n",
       " (48245440.0, '#TENISxESPN #LaGiraSoñada Roland Garros contará con tres retadores a Rafael Nadal: Dominic Thiem, Stanislas Wawrink\\x85 https://t.co/nPujaonYst', 26),\n",
       " (409738504.0, 'Sam Querrey gives #TeamUSA a 2-0 #DavisCup QF lead over Belgium with a 6-1, 7-6, 7-5 win against world No. 110 Rube\\x85 https://t.co/stNz3P4DUS', 21),\n",
       " (42869268.0, \"USA ?? are the first team into the #DavisCup semi-finals in 2018 after Jack Sock and Ryan Harrison won Saturday's d\\x85 https://t.co/RP3RCoHZVm\", 8),\n",
       " (211475875.0, 'Quart de finale USA/Belgique de #DavisCup 3/0, double: Ryan Harrison/Jack Sock battent Sander GILLE/Jordan VLIEGEN\\x85 https://t.co/H3TXYGdhK7', 7)]"
      ]
     },
     "execution_count": 56,
     "metadata": {},
     "output_type": "execute_result"
    }
   ],
   "source": [
    "%sql \\\n",
    "SELECT twitter.user_id, twitter.tweet_text, twitter.heats FROM twitter \\\n",
    "  WHERE twitter.tweet_text REGEXP 'Rafael|Nadal|Rafael Nadal|daviscup' \\\n",
    "  ORDER BY heats DESC \\\n",
    "LIMIT 5;"
   ]
  },
  {
   "cell_type": "markdown",
   "metadata": {},
   "source": [
    "<B>And then check the relation between each person and me"
   ]
  },
  {
   "cell_type": "code",
   "execution_count": 41,
   "metadata": {
    "collapsed": true
   },
   "outputs": [],
   "source": [
    "import tweepy \n",
    "import pandas as pd\n",
    "import csv\n",
    "\n",
    "consumer_key = 'gWnX6L9mVNmA7KGOnUz38Vj6L'\n",
    "consumer_secret = 'NUj4HlFqqsKNRymkpNdHkGlz5XWywy8WTulpuCk4E9el0ejDhp'\n",
    "access_token = '3299502536-ftNdzck0S2vTc0jigoouDXSx9WuYqkn6soXyqJy'\n",
    "access_secret = 'XnYMNuNBHbcAYp3RFmhMj7v9ZP6KDDOl46mpKCLYji8V6'\n",
    "\n",
    "\n",
    "auth = tweepy.OAuthHandler(consumer_key, consumer_secret)\n",
    "auth.set_access_token(access_token, access_secret)\n",
    "api = tweepy.API(auth)\n",
    "if (not api):\n",
    "    print (\"Problem connecting to API\")"
   ]
  },
  {
   "cell_type": "markdown",
   "metadata": {},
   "source": [
    "<B>Rafael Nadal twitter id is: 344634424\n",
    "\n",
    "Other users ids are 383123103, 848003961810542590, 967316083102363650"
   ]
  },
  {
   "cell_type": "code",
   "execution_count": 61,
   "metadata": {
    "scrolled": true
   },
   "outputs": [
    {
     "name": "stdout",
     "output_type": "stream",
     "text": [
      "(Friendship(_api=<tweepy.api.API object at 0x10ed352b0>, id=344634424, id_str='344634424', screen_name='RafaelNadal', following=False, followed_by=True, live_following=False, following_received=None, following_requested=None, notifications_enabled=None, can_dm=True, blocking=None, blocked_by=None, muting=None, want_retweets=None, all_replies=None, marked_spam=None), Friendship(_api=<tweepy.api.API object at 0x10ed352b0>, id=42869268, id_str='42869268', screen_name='livetennis', following=True, followed_by=False, following_received=None, following_requested=None))\n",
      "\n",
      "(Friendship(_api=<tweepy.api.API object at 0x10ed352b0>, id=344634424, id_str='344634424', screen_name='RafaelNadal', following=False, followed_by=False, live_following=False, following_received=None, following_requested=None, notifications_enabled=None, can_dm=False, blocking=None, blocked_by=None, muting=None, want_retweets=None, all_replies=None, marked_spam=None), Friendship(_api=<tweepy.api.API object at 0x10ed352b0>, id=409738504, id_str='409738504', screen_name='AMarshallSport', following=False, followed_by=False, following_received=None, following_requested=None))\n",
      "\n",
      "(Friendship(_api=<tweepy.api.API object at 0x10ed352b0>, id=344634424, id_str='344634424', screen_name='RafaelNadal', following=False, followed_by=True, live_following=False, following_received=None, following_requested=None, notifications_enabled=None, can_dm=True, blocking=None, blocked_by=None, muting=None, want_retweets=None, all_replies=None, marked_spam=None), Friendship(_api=<tweepy.api.API object at 0x10ed352b0>, id=48245440, id_str='48245440', screen_name='ESPNtenis', following=True, followed_by=False, following_received=None, following_requested=None))\n",
      "\n",
      "(Friendship(_api=<tweepy.api.API object at 0x10ed352b0>, id=344634424, id_str='344634424', screen_name='RafaelNadal', following=False, followed_by=True, live_following=False, following_received=None, following_requested=None, notifications_enabled=None, can_dm=True, blocking=None, blocked_by=None, muting=None, want_retweets=None, all_replies=None, marked_spam=None), Friendship(_api=<tweepy.api.API object at 0x10ed352b0>, id=211475875, id_str='211475875', screen_name='chachristine', following=True, followed_by=False, following_received=None, following_requested=None))\n",
      "\n"
     ]
    }
   ],
   "source": [
    "ids = [42869268,409738504,48245440,211475875]\n",
    "for item in ids:\n",
    "    print(api.show_friendship(source_id=344634424, target_id = item))\n",
    "    print(\"\")"
   ]
  },
  {
   "cell_type": "markdown",
   "metadata": {},
   "source": [
    "### <font color=#6495ED><B> So, as shown above, I(Rafael Nadal) should follow back the user \"livetennis\",\"ESPNtenis\",\"chachristine\""
   ]
  },
  {
   "cell_type": "markdown",
   "metadata": {},
   "source": [
    "## x. What is the best time to post? "
   ]
  },
  {
   "cell_type": "markdown",
   "metadata": {},
   "source": [
    "* ### <font color=#47413E face=\"Didot\"><I> In order to fine the best time to post tweets about a specific topic, we should sort the post time and see the heat(like_count + comment_count)\n",
    "\n",
    "    <B>1. Grouping the posts' heat by hours  \n",
    "    <B>Search for the heat(comment_count + like_count) and group by the hour to see what is the best time to post in a day"
   ]
  },
  {
   "cell_type": "code",
   "execution_count": 118,
   "metadata": {},
   "outputs": [
    {
     "name": "stdout",
     "output_type": "stream",
     "text": [
      "15 rows affected.\n"
     ]
    },
    {
     "data": {
      "text/html": [
       "<table>\n",
       "    <tr>\n",
       "        <th>hour</th>\n",
       "        <th>best_time</th>\n",
       "    </tr>\n",
       "    <tr>\n",
       "        <td>21</td>\n",
       "        <td>24702.0000</td>\n",
       "    </tr>\n",
       "    <tr>\n",
       "        <td>17</td>\n",
       "        <td>23847.5000</td>\n",
       "    </tr>\n",
       "    <tr>\n",
       "        <td>23</td>\n",
       "        <td>21178.3333</td>\n",
       "    </tr>\n",
       "    <tr>\n",
       "        <td>19</td>\n",
       "        <td>20536.3333</td>\n",
       "    </tr>\n",
       "    <tr>\n",
       "        <td>14</td>\n",
       "        <td>20316.0000</td>\n",
       "    </tr>\n",
       "    <tr>\n",
       "        <td>11</td>\n",
       "        <td>20140.5000</td>\n",
       "    </tr>\n",
       "    <tr>\n",
       "        <td>0</td>\n",
       "        <td>19825.0000</td>\n",
       "    </tr>\n",
       "    <tr>\n",
       "        <td>18</td>\n",
       "        <td>16190.3333</td>\n",
       "    </tr>\n",
       "    <tr>\n",
       "        <td>6</td>\n",
       "        <td>15961.0000</td>\n",
       "    </tr>\n",
       "    <tr>\n",
       "        <td>20</td>\n",
       "        <td>15423.0000</td>\n",
       "    </tr>\n",
       "    <tr>\n",
       "        <td>1</td>\n",
       "        <td>12590.0000</td>\n",
       "    </tr>\n",
       "    <tr>\n",
       "        <td>16</td>\n",
       "        <td>12378.0000</td>\n",
       "    </tr>\n",
       "    <tr>\n",
       "        <td>13</td>\n",
       "        <td>11476.0000</td>\n",
       "    </tr>\n",
       "    <tr>\n",
       "        <td>9</td>\n",
       "        <td>9601.0000</td>\n",
       "    </tr>\n",
       "    <tr>\n",
       "        <td>12</td>\n",
       "        <td>9052.0000</td>\n",
       "    </tr>\n",
       "</table>"
      ],
      "text/plain": [
       "[(21, Decimal('24702.0000')),\n",
       " (17, Decimal('23847.5000')),\n",
       " (23, Decimal('21178.3333')),\n",
       " (19, Decimal('20536.3333')),\n",
       " (14, Decimal('20316.0000')),\n",
       " (11, Decimal('20140.5000')),\n",
       " (0, Decimal('19825.0000')),\n",
       " (18, Decimal('16190.3333')),\n",
       " (6, Decimal('15961.0000')),\n",
       " (20, Decimal('15423.0000')),\n",
       " (1, Decimal('12590.0000')),\n",
       " (16, Decimal('12378.0000')),\n",
       " (13, Decimal('11476.0000')),\n",
       " (9, Decimal('9601.0000')),\n",
       " (12, Decimal('9052.0000'))]"
      ]
     },
     "execution_count": 118,
     "metadata": {},
     "output_type": "execute_result"
    }
   ],
   "source": [
    "%sql \\\n",
    "SELECT ins.hour, avg(DB_Assignment3.ins.heat) AS best_time \\\n",
    "FROM ins WHERE ins.tags LIKE \"%rogerfederer%\" \\\n",
    "GROUP BY ins.hour \\\n",
    "ORDER BY avg(ins.heat) \\\n",
    "DESC ;"
   ]
  },
  {
   "cell_type": "markdown",
   "metadata": {},
   "source": [
    "### <font color=#6495ED><B> So, the best time in a day to post something about Roger Federer is the 9pm"
   ]
  },
  {
   "cell_type": "markdown",
   "metadata": {},
   "source": [
    "   <B>2. Grouping the posts by weekdays  \n",
    "    <B>Search for the heat(comment_count + like_count) and group by the weekdays to see what is the best time to post in a week"
   ]
  },
  {
   "cell_type": "code",
   "execution_count": 5,
   "metadata": {},
   "outputs": [
    {
     "name": "stdout",
     "output_type": "stream",
     "text": [
      "7 rows affected.\n"
     ]
    },
    {
     "data": {
      "text/html": [
       "<table>\n",
       "    <tr>\n",
       "        <th>weekday</th>\n",
       "        <th>best_time</th>\n",
       "    </tr>\n",
       "    <tr>\n",
       "        <td>1</td>\n",
       "        <td>21535.0000</td>\n",
       "    </tr>\n",
       "    <tr>\n",
       "        <td>0</td>\n",
       "        <td>20573.5000</td>\n",
       "    </tr>\n",
       "    <tr>\n",
       "        <td>5</td>\n",
       "        <td>19825.0000</td>\n",
       "    </tr>\n",
       "    <tr>\n",
       "        <td>4</td>\n",
       "        <td>17388.0000</td>\n",
       "    </tr>\n",
       "    <tr>\n",
       "        <td>6</td>\n",
       "        <td>16580.6250</td>\n",
       "    </tr>\n",
       "    <tr>\n",
       "        <td>2</td>\n",
       "        <td>14528.4000</td>\n",
       "    </tr>\n",
       "    <tr>\n",
       "        <td>3</td>\n",
       "        <td>10212.0000</td>\n",
       "    </tr>\n",
       "</table>"
      ],
      "text/plain": [
       "[(1, Decimal('21535.0000')),\n",
       " (0, Decimal('20573.5000')),\n",
       " (5, Decimal('19825.0000')),\n",
       " (4, Decimal('17388.0000')),\n",
       " (6, Decimal('16580.6250')),\n",
       " (2, Decimal('14528.4000')),\n",
       " (3, Decimal('10212.0000'))]"
      ]
     },
     "execution_count": 5,
     "metadata": {},
     "output_type": "execute_result"
    }
   ],
   "source": [
    "%sql \\\n",
    "SELECT DB_Assignment3.ins.weekday, avg(heat) AS best_time \\\n",
    "FROM ins WHERE ins.tags LIKE \"%rogerfederer%\" \\\n",
    "GROUP BY ins.weekday \\\n",
    "ORDER BY avg(ins.heat) \\\n",
    "DESC ;"
   ]
  },
  {
   "cell_type": "markdown",
   "metadata": {},
   "source": [
    "### <font color=#6495ED><B> So, the best time in a week to post is the Sunday and Monday."
   ]
  },
  {
   "cell_type": "markdown",
   "metadata": {},
   "source": [
    "## xi. Should I add and picture or url to my post? \n"
   ]
  },
  {
   "cell_type": "markdown",
   "metadata": {},
   "source": [
    "* ### <font color=#47413E face=\"Didot\"><I> We should measure the influence about posts between having urls and without urls, compare them by seeing the average of their heat(like_count + comment_count). More heat means more influence.\n",
    "\n",
    "<B>Calculate the average of heat of tweets with url\n"
   ]
  },
  {
   "cell_type": "code",
   "execution_count": 113,
   "metadata": {},
   "outputs": [
    {
     "name": "stdout",
     "output_type": "stream",
     "text": [
      "1 rows affected.\n"
     ]
    },
    {
     "data": {
      "text/html": [
       "<table>\n",
       "    <tr>\n",
       "        <th>avg(heats)</th>\n",
       "    </tr>\n",
       "    <tr>\n",
       "        <td>6.1532</td>\n",
       "    </tr>\n",
       "</table>"
      ],
      "text/plain": [
       "[(Decimal('6.1532'),)]"
      ]
     },
     "execution_count": 113,
     "metadata": {},
     "output_type": "execute_result"
    }
   ],
   "source": [
    "%sql \\\n",
    "SELECT avg(heats) \\\n",
    "FROM twitter \\\n",
    "WHERE url IS NOT null;"
   ]
  },
  {
   "cell_type": "markdown",
   "metadata": {},
   "source": [
    "<B>Calculate the average of heat of tweets without url"
   ]
  },
  {
   "cell_type": "code",
   "execution_count": 111,
   "metadata": {
    "scrolled": true
   },
   "outputs": [
    {
     "name": "stdout",
     "output_type": "stream",
     "text": [
      "1 rows affected.\n"
     ]
    },
    {
     "data": {
      "text/html": [
       "<table>\n",
       "    <tr>\n",
       "        <th>avg(heats)</th>\n",
       "    </tr>\n",
       "    <tr>\n",
       "        <td>0.5000</td>\n",
       "    </tr>\n",
       "</table>"
      ],
      "text/plain": [
       "[(Decimal('0.5000'),)]"
      ]
     },
     "execution_count": 111,
     "metadata": {},
     "output_type": "execute_result"
    }
   ],
   "source": [
    "%sql \\\n",
    "SELECT avg(heats) \\\n",
    "FROM twitter \\\n",
    "WHERE url IS null;"
   ]
  },
  {
   "cell_type": "markdown",
   "metadata": {},
   "source": [
    "### <font color=#6495ED><B> So, we should add a picture or url to our post"
   ]
  },
  {
   "cell_type": "markdown",
   "metadata": {},
   "source": [
    "## xii. What’s my reach? "
   ]
  },
  {
   "cell_type": "markdown",
   "metadata": {},
   "source": [
    "* ### <font color=#47413E face=\"Didot\"><I> We consider the reach could be measured by people who focus on other domain still retweet my post.\n",
    "\n",
    "<B> 1. Search a tweet that has the most heat and use this tweet to find its reach"
   ]
  },
  {
   "cell_type": "code",
   "execution_count": 99,
   "metadata": {},
   "outputs": [
    {
     "name": "stdout",
     "output_type": "stream",
     "text": [
      "1 rows affected.\n"
     ]
    },
    {
     "data": {
      "text/html": [
       "<table>\n",
       "    <tr>\n",
       "        <th>url</th>\n",
       "        <th>heats</th>\n",
       "        <th>user_id</th>\n",
       "    </tr>\n",
       "    <tr>\n",
       "        <td>https://t.co/HILIojV6LH</td>\n",
       "        <td>58</td>\n",
       "        <td>14836197.0</td>\n",
       "    </tr>\n",
       "</table>"
      ],
      "text/plain": [
       "[('https://t.co/HILIojV6LH', 58, 14836197.0)]"
      ]
     },
     "execution_count": 99,
     "metadata": {},
     "output_type": "execute_result"
    }
   ],
   "source": [
    "%sql \\\n",
    "SELECT twitter.url,twitter.heats, twitter.user_id \\\n",
    "FROM twitter \\\n",
    "ORDER BY twitter.heats DESC LIMIT 1;"
   ]
  },
  {
   "cell_type": "markdown",
   "metadata": {},
   "source": [
    "<B>2. Use the url to search its tweet id, and the id is 981924371647393793"
   ]
  },
  {
   "cell_type": "code",
   "execution_count": 96,
   "metadata": {
    "scrolled": true
   },
   "outputs": [
    {
     "data": {
      "text/plain": [
       "[129111088,\n",
       " 1242977138,\n",
       " 962993694956638208,\n",
       " 841454852572119042,\n",
       " 905502027387723776,\n",
       " 867867841248333824]"
      ]
     },
     "execution_count": 96,
     "metadata": {},
     "output_type": "execute_result"
    }
   ],
   "source": [
    "api.retweeters(id=981924371647393793,count = 10)"
   ]
  },
  {
   "cell_type": "markdown",
   "metadata": {},
   "source": [
    "<B> 2.1 Use the retweeters' id to see their basic info"
   ]
  },
  {
   "cell_type": "code",
   "execution_count": 101,
   "metadata": {},
   "outputs": [
    {
     "name": "stdout",
     "output_type": "stream",
     "text": [
      "Rajsingh Nimbalkar raj_fedx 408 131 90\n"
     ]
    }
   ],
   "source": [
    "user1 = api.get_user(129111088)\n",
    "print(user1.name, user1.screen_name, str(user1.statuses_count), str(user1.friends_count), str(user1.followers_count))"
   ]
  },
  {
   "cell_type": "code",
   "execution_count": 102,
   "metadata": {
    "collapsed": true
   },
   "outputs": [],
   "source": [
    "from datetime import datetime, date, time, timedelta\n",
    "from tweepy import Cursor\n",
    "\n",
    "hashtags = []\n",
    "mentions = []\n",
    "tweet_count = 0\n",
    "end_date = datetime.utcnow() - timedelta(days=50)\n",
    "for status in Cursor(api.user_timeline, id=129111088).items():\n",
    "      tweet_count += 1\n",
    "      if hasattr(status, \"entities\"):\n",
    "        entities = status.entities\n",
    "        if \"hashtags\" in entities:\n",
    "          for ent in entities[\"hashtags\"]:\n",
    "            if ent is not None:\n",
    "              if \"text\" in ent:\n",
    "                hashtag = ent[\"text\"]\n",
    "                if hashtag is not None:\n",
    "                  hashtags.append(hashtag)\n",
    "        if \"user_mentions\" in entities:\n",
    "          for ent in entities[\"user_mentions\"]:\n",
    "            if ent is not None:\n",
    "              if \"screen_name\" in ent:\n",
    "                name = ent[\"screen_name\"]\n",
    "                if name is not None:\n",
    "                  mentions.append(name)\n",
    "      if status.created_at < end_date:\n",
    "        break\n",
    "\n"
   ]
  },
  {
   "cell_type": "markdown",
   "metadata": {},
   "source": [
    "<B>2.2 Search the users mentioned most by user 129111088"
   ]
  },
  {
   "cell_type": "code",
   "execution_count": 103,
   "metadata": {},
   "outputs": [
    {
     "name": "stdout",
     "output_type": "stream",
     "text": [
      "usopen\t15\n",
      "Wimbledon\t3\n",
      "IndiaHistorypic\t3\n",
      "rithvik_RD\t2\n",
      "rolandgarros\t1\n",
      "EpicChannelIn\t1\n",
      "rnadalacademy\t1\n",
      "ValaAfshar\t1\n",
      "mhingis\t1\n",
      "timesofindia\t1\n"
     ]
    }
   ],
   "source": [
    "from collections import Counter\n",
    "for user1, count in Counter(mentions).most_common(10):\n",
    "      print(user1 + \"\\t\" + str(count))"
   ]
  },
  {
   "cell_type": "markdown",
   "metadata": {},
   "source": [
    "<B>2.3 Search the hashtags metioned most by user 129111088"
   ]
  },
  {
   "cell_type": "code",
   "execution_count": 104,
   "metadata": {
    "scrolled": false
   },
   "outputs": [
    {
     "name": "stdout",
     "output_type": "stream",
     "text": [
      "USOpen\t8\n",
      "USOpen50\t2\n",
      "RG18\t1\n",
      "StoriesByRabindranathTagore\t1\n",
      "RNArules\t1\n",
      "DeathForRapists\t1\n",
      "USOpenSeries\t1\n",
      "SaveWater\t1\n"
     ]
    }
   ],
   "source": [
    "for user1, count in Counter(hashtags).most_common(10):\n",
    "      print(user1 + \"\\t\" + str(count))"
   ]
  },
  {
   "cell_type": "markdown",
   "metadata": {},
   "source": [
    "### <font color=#6495ED><B> As shown above, this user's domain is focus on tennis, and the tweet's reach is still in the tennis, we need to try more user."
   ]
  },
  {
   "cell_type": "markdown",
   "metadata": {},
   "source": [
    "<B> 3.1 Use the retweeters' id to see their basic info"
   ]
  },
  {
   "cell_type": "code",
   "execution_count": 106,
   "metadata": {},
   "outputs": [
    {
     "name": "stdout",
     "output_type": "stream",
     "text": [
      "e.o eazeee2004 752839 941 1603\n"
     ]
    }
   ],
   "source": [
    "user1 = api.get_user(1242977138)\n",
    "print(user1.name, user1.screen_name, str(user1.statuses_count), str(user1.friends_count), str(user1.followers_count))"
   ]
  },
  {
   "cell_type": "code",
   "execution_count": 107,
   "metadata": {
    "collapsed": true
   },
   "outputs": [],
   "source": [
    "from datetime import datetime, date, time, timedelta\n",
    "from tweepy import Cursor\n",
    "\n",
    "hashtags = []\n",
    "mentions = []\n",
    "tweet_count = 0\n",
    "end_date = datetime.utcnow() - timedelta(days=50)\n",
    "for status in Cursor(api.user_timeline, id=1242977138).items():\n",
    "      tweet_count += 1\n",
    "      if hasattr(status, \"entities\"):\n",
    "        entities = status.entities\n",
    "        if \"hashtags\" in entities:\n",
    "          for ent in entities[\"hashtags\"]:\n",
    "            if ent is not None:\n",
    "              if \"text\" in ent:\n",
    "                hashtag = ent[\"text\"]\n",
    "                if hashtag is not None:\n",
    "                  hashtags.append(hashtag)\n",
    "        if \"user_mentions\" in entities:\n",
    "          for ent in entities[\"user_mentions\"]:\n",
    "            if ent is not None:\n",
    "              if \"screen_name\" in ent:\n",
    "                name = ent[\"screen_name\"]\n",
    "                if name is not None:\n",
    "                  mentions.append(name)\n",
    "      if status.created_at < end_date:\n",
    "        break\n",
    "\n"
   ]
  },
  {
   "cell_type": "markdown",
   "metadata": {},
   "source": [
    "<B>3.2 Search the users mentioned most by user 1242977138"
   ]
  },
  {
   "cell_type": "code",
   "execution_count": 108,
   "metadata": {
    "scrolled": true
   },
   "outputs": [
    {
     "name": "stdout",
     "output_type": "stream",
     "text": [
      "WTA\t241\n",
      "livetennis\t209\n",
      "NFL\t201\n",
      "ProFootballTalk\t188\n",
      "PorscheTennis\t175\n",
      "nflnetwork\t142\n",
      "NFLDraft\t128\n",
      "NHLonNBCSports\t127\n",
      "PFF\t115\n",
      "RapSheet\t95\n"
     ]
    }
   ],
   "source": [
    "from collections import Counter\n",
    "for user1, count in Counter(mentions).most_common(10):\n",
    "      print(user1 + \"\\t\" + str(count))"
   ]
  },
  {
   "cell_type": "markdown",
   "metadata": {},
   "source": [
    "<B>3.3 Search the hashtags mentioned most by user 1242977138"
   ]
  },
  {
   "cell_type": "code",
   "execution_count": 109,
   "metadata": {
    "scrolled": false
   },
   "outputs": [
    {
     "name": "stdout",
     "output_type": "stream",
     "text": [
      "NFLDraft\t310\n",
      "StanleyCup\t121\n",
      "Eagles\t103\n",
      "PTGP2018\t100\n",
      "IstanbulCup\t47\n",
      "bcnopenbs\t39\n",
      "Game7\t37\n",
      "Dimitrov\t35\n",
      "porschetennis\t34\n",
      "MayockMock\t34\n"
     ]
    }
   ],
   "source": [
    "for user1, count in Counter(hashtags).most_common(10):\n",
    "      print(user1 + \"\\t\" + str(count))"
   ]
  },
  {
   "cell_type": "markdown",
   "metadata": {},
   "source": [
    "### <font color=#6495ED><B> As shown above, this user's hashtags were focus on football, and the tweet's reach arrived the domain football."
   ]
  }
 ],
 "metadata": {
  "kernelspec": {
   "display_name": "Python 3",
   "language": "python",
   "name": "python3"
  },
  "language_info": {
   "codemirror_mode": {
    "name": "ipython",
    "version": 3
   },
   "file_extension": ".py",
   "mimetype": "text/x-python",
   "name": "python",
   "nbconvert_exporter": "python",
   "pygments_lexer": "ipython3",
   "version": "3.6.3"
  }
 },
 "nbformat": 4,
 "nbformat_minor": 2
}
